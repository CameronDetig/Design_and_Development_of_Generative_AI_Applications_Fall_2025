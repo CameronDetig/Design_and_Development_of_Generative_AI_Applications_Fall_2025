{
  "cells": [
    {
      "cell_type": "markdown",
      "metadata": {},
      "source": [
        "Adapted from: https://github.com/NirDiamant/RAG_Techniques/tree/main"
      ]
    },
    {
      "cell_type": "markdown",
      "metadata": {},
      "source": [
        "# Fusion Retrieval in Document Search\n",
        "\n",
        "## Overview\n",
        "\n",
        "This code implements a Fusion Retrieval system that combines vector-based similarity search with keyword-based BM25 retrieval. The approach aims to leverage the strengths of both methods to improve the overall quality and relevance of document retrieval.\n",
        "\n",
        "## Motivation\n",
        "\n",
        "Traditional retrieval methods often rely on either semantic understanding (vector-based) or keyword matching (BM25). Each approach has its strengths and weaknesses. Fusion retrieval aims to combine these methods to create a more robust and accurate retrieval system that can handle a wider range of queries effectively.\n",
        "\n",
        "## Key Components\n",
        "\n",
        "1. PDF processing and text chunking\n",
        "2. Vector store creation using FAISS and OpenAI embeddings\n",
        "3. BM25 index creation for keyword-based retrieval\n",
        "4. Custom fusion retrieval function that combines both methods\n",
        "\n",
        "## Method Details\n",
        "\n",
        "### Document Preprocessing\n",
        "\n",
        "1. The PDF is loaded and split into chunks using RecursiveCharacterTextSplitter.\n",
        "2. Chunks are cleaned by replacing 't' with spaces (likely addressing a specific formatting issue).\n",
        "\n",
        "### Vector Store Creation\n",
        "\n",
        "1. OpenAI embeddings are used to create vector representations of the text chunks.\n",
        "2. A FAISS vector store is created from these embeddings for efficient similarity search.\n",
        "\n",
        "### BM25 Index Creation\n",
        "\n",
        "1. A BM25 index is created from the same text chunks used for the vector store.\n",
        "2. This allows for keyword-based retrieval alongside the vector-based method.\n",
        "\n",
        "### Fusion Retrieval Function\n",
        "\n",
        "The `fusion_retrieval` function is the core of this implementation:\n",
        "\n",
        "1. It takes a query and performs both vector-based and BM25-based retrieval.\n",
        "2. Scores from both methods are normalized to a common scale.\n",
        "3. A weighted combination of these scores is computed (controlled by the `alpha` parameter).\n",
        "4. Documents are ranked based on the combined scores, and the top-k results are returned.\n",
        "\n",
        "## Benefits of this Approach\n",
        "\n",
        "1. Improved Retrieval Quality: By combining semantic and keyword-based search, the system can capture both conceptual similarity and exact keyword matches.\n",
        "2. Flexibility: The `alpha` parameter allows for adjusting the balance between vector and keyword search based on specific use cases or query types.\n",
        "3. Robustness: The combined approach can handle a wider range of queries effectively, mitigating weaknesses of individual methods.\n",
        "4. Customizability: The system can be easily adapted to use different vector stores or keyword-based retrieval methods.\n",
        "\n",
        "## Conclusion\n",
        "\n",
        "Fusion retrieval represents a powerful approach to document search that combines the strengths of semantic understanding and keyword matching. By leveraging both vector-based and BM25 retrieval methods, it offers a more comprehensive and flexible solution for information retrieval tasks. This approach has potential applications in various fields where both conceptual similarity and keyword relevance are important, such as academic research, legal document search, or general-purpose search engines."
      ]
    },
    {
      "cell_type": "markdown",
      "metadata": {},
      "source": [
        "# Package Installation and Imports\n",
        "\n",
        "The cell below installs all necessary packages required to run this notebook.\n"
      ]
    },
    {
      "cell_type": "code",
      "execution_count": null,
      "metadata": {},
      "outputs": [],
      "source": [
        "# Install required packages\n",
        "# !pip install langchain numpy python-dotenv rank-bm25 langchain-openai"
      ]
    },
    {
      "cell_type": "code",
      "execution_count": null,
      "metadata": {},
      "outputs": [],
      "source": [
        "import os\n",
        "from dotenv import load_dotenv\n",
        "from typing import List\n",
        "from rank_bm25 import BM25Okapi\n",
        "import numpy as np\n",
        "\n",
        "from langchain.docstore.document import Document\n",
        "from langchain.document_loaders import PyPDFLoader\n",
        "from langchain.text_splitter import RecursiveCharacterTextSplitter\n",
        "from langchain.vectorstores import FAISS\n",
        "from langchain_openai import OpenAIEmbeddings\n",
        "\n",
        "\n",
        "# Load environment variables from a .env file\n",
        "load_dotenv()\n",
        "\n",
        "# Set the OpenAI API key environment variable\n",
        "os.environ[\"OPENAI_API_KEY\"] = os.getenv('OPENAI_API_KEY')"
      ]
    },
    {
      "cell_type": "markdown",
      "metadata": {},
      "source": [
        "### Helper functions"
      ]
    },
    {
      "cell_type": "code",
      "execution_count": null,
      "metadata": {},
      "outputs": [],
      "source": [
        "def replace_t_with_space(list_of_documents):\n",
        "    \"\"\"\n",
        "    Replaces all tab characters ('\\t') with spaces in the page content of each document\n",
        "\n",
        "    Args:\n",
        "        list_of_documents: A list of document objects, each with a 'page_content' attribute.\n",
        "\n",
        "    Returns:\n",
        "        The modified list of documents with tab characters replaced by spaces.\n",
        "    \"\"\"\n",
        "\n",
        "    for doc in list_of_documents:\n",
        "        doc.page_content = doc.page_content.replace('\\t', ' ')  # Replace tabs with spaces\n",
        "    return list_of_documents\n",
        "\n",
        "def show_context(context):\n",
        "    \"\"\"\n",
        "    Display the contents of the provided context list.\n",
        "\n",
        "    Args:\n",
        "        context (list): A list of context items to be displayed.\n",
        "\n",
        "    Prints each context item in the list with a heading indicating its position.\n",
        "    \"\"\"\n",
        "    for i, c in enumerate(context):\n",
        "        print(f\"Context {i + 1}:\")\n",
        "        print(c)\n",
        "        print(\"\\n\")"
      ]
    },
    {
      "cell_type": "markdown",
      "metadata": {},
      "source": [
        "### Define document path"
      ]
    },
    {
      "cell_type": "code",
      "execution_count": null,
      "metadata": {},
      "outputs": [],
      "source": [
        "# PDF to be used for retrieval\n",
        "path = \"data/Understanding_Climate_Change.pdf\""
      ]
    },
    {
      "cell_type": "markdown",
      "metadata": {},
      "source": [
        "### Encode the pdf to vector store and return split document from the step before to create BM25 instance"
      ]
    },
    {
      "cell_type": "code",
      "execution_count": null,
      "metadata": {},
      "outputs": [],
      "source": [
        "def encode_pdf_and_get_split_documents(path, chunk_size=1000, chunk_overlap=200):\n",
        "    \"\"\"\n",
        "    Encodes a PDF book into a vector store using OpenAI embeddings.\n",
        "\n",
        "    Args:\n",
        "        path: The path to the PDF file.\n",
        "        chunk_size: The desired size of each text chunk.\n",
        "        chunk_overlap: The amount of overlap between consecutive chunks.\n",
        "\n",
        "    Returns:\n",
        "        A FAISS vector store containing the encoded book content.\n",
        "    \"\"\"\n",
        "\n",
        "    # Load PDF documents\n",
        "    loader = PyPDFLoader(path)\n",
        "    documents = loader.load()\n",
        "\n",
        "    # Split documents into chunks\n",
        "    text_splitter = RecursiveCharacterTextSplitter(\n",
        "        chunk_size=chunk_size, chunk_overlap=chunk_overlap, length_function=len\n",
        "    )\n",
        "    texts = text_splitter.split_documents(documents)\n",
        "    cleaned_texts = replace_t_with_space(texts)\n",
        "\n",
        "    # Create embeddings and vector store\n",
        "    embeddings = OpenAIEmbeddings()\n",
        "    vectorstore = FAISS.from_documents(cleaned_texts, embeddings)\n",
        "\n",
        "    return vectorstore, cleaned_texts"
      ]
    },
    {
      "cell_type": "markdown",
      "metadata": {},
      "source": [
        "### Create vectorstore and get the chunked documents"
      ]
    },
    {
      "cell_type": "code",
      "execution_count": 7,
      "metadata": {},
      "outputs": [],
      "source": [
        "vectorstore, cleaned_texts = encode_pdf_and_get_split_documents(path)"
      ]
    },
    {
      "cell_type": "markdown",
      "metadata": {},
      "source": [
        "### Create a bm25 index for retrieving documents by keywords"
      ]
    },
    {
      "cell_type": "code",
      "execution_count": 8,
      "metadata": {},
      "outputs": [],
      "source": [
        "def create_bm25_index(documents: List[Document]) -> BM25Okapi:\n",
        "    \"\"\"\n",
        "    Create a BM25 index from the given documents.\n",
        "\n",
        "    BM25 (Best Matching 25) is a ranking function used in information retrieval.\n",
        "    It's based on the probabilistic retrieval framework and is an improvement over TF-IDF.\n",
        "\n",
        "    Args:\n",
        "    documents (List[Document]): List of documents to index.\n",
        "\n",
        "    Returns:\n",
        "    BM25Okapi: An index that can be used for BM25 scoring.\n",
        "    \"\"\"\n",
        "    # Tokenize each document by splitting on whitespace\n",
        "    # This is a simple approach and could be improved with more sophisticated tokenization\n",
        "    tokenized_docs = [doc.page_content.split() for doc in documents]\n",
        "    return BM25Okapi(tokenized_docs)"
      ]
    },
    {
      "cell_type": "code",
      "execution_count": 9,
      "metadata": {},
      "outputs": [],
      "source": [
        "bm25 = create_bm25_index(cleaned_texts) # Create BM25 index from the cleaned texts (chunks)"
      ]
    },
    {
      "cell_type": "markdown",
      "metadata": {},
      "source": [
        "### Define a function that retrieves both semantically and by keyword, normalizes the scores and gets the top k documents"
      ]
    },
    {
      "cell_type": "code",
      "execution_count": 10,
      "metadata": {},
      "outputs": [],
      "source": [
        "def fusion_retrieval(vectorstore, bm25, query: str, k: int = 5, alpha: float = 0.5) -> List[Document]:\n",
        "    \"\"\"\n",
        "    Perform fusion retrieval combining keyword-based (BM25) and vector-based search.\n",
        "\n",
        "    Args:\n",
        "    vectorstore (VectorStore): The vectorstore containing the documents.\n",
        "    bm25 (BM25Okapi): Pre-computed BM25 index.\n",
        "    query (str): The query string.\n",
        "    k (int): The number of documents to retrieve.\n",
        "    alpha (float): The weight for vector search scores (1-alpha will be the weight for BM25 scores).\n",
        "\n",
        "    Returns:\n",
        "    List[Document]: The top k documents based on the combined scores.\n",
        "    \"\"\"\n",
        "    \n",
        "    epsilon = 1e-8\n",
        "\n",
        "    # Step 1: Get all documents from the vectorstore\n",
        "    all_docs = vectorstore.similarity_search(\"\", k=vectorstore.index.ntotal)\n",
        "\n",
        "    # Step 2: Perform BM25 search\n",
        "    bm25_scores = bm25.get_scores(query.split())\n",
        "\n",
        "    # Step 3: Perform vector search\n",
        "    vector_results = vectorstore.similarity_search_with_score(query, k=len(all_docs))\n",
        "    \n",
        "    # Step 4: Normalize scores\n",
        "    vector_scores = np.array([score for _, score in vector_results])\n",
        "    vector_scores = 1 - (vector_scores - np.min(vector_scores)) / (np.max(vector_scores) - np.min(vector_scores) + epsilon)\n",
        "\n",
        "    bm25_scores = (bm25_scores - np.min(bm25_scores)) / (np.max(bm25_scores) -  np.min(bm25_scores) + epsilon)\n",
        "\n",
        "    # Step 5: Combine scores\n",
        "    combined_scores = alpha * vector_scores + (1 - alpha) * bm25_scores  \n",
        "\n",
        "    # Step 6: Rank documents\n",
        "    sorted_indices = np.argsort(combined_scores)[::-1]\n",
        "    \n",
        "    # Step 7: Return top k documents\n",
        "    return [all_docs[i] for i in sorted_indices[:k]]"
      ]
    },
    {
      "cell_type": "markdown",
      "metadata": {},
      "source": [
        "### Use Case example"
      ]
    },
    {
      "cell_type": "code",
      "execution_count": 13,
      "metadata": {},
      "outputs": [
        {
          "name": "stdout",
          "output_type": "stream",
          "text": [
            "Context 1:\n",
            "Legacy and Responsibility \n",
            "Recognizing the responsibility to future generations is a fundamental aspect of climate action. \n",
            "This involves making decisions that protect the environment and ensure a sustainable future. \n",
            "Promoting a sense of stewardship and legacy encourages long-term thinking and \n",
            "commitment. \n",
            "By continuing to innovate, collaborate, and integrate diverse perspectives, we can address the \n",
            "complex and urgent challenge of climate change. Our collective efforts will determine the \n",
            "health and sustainability of our planet for generations to come. Together, we can create a \n",
            "resilient, equitable, and thriving world.\n",
            "\n",
            "\n",
            "Context 2:\n",
            "arid and semi-arid regions. Droughts can lead to food and water shortages and exacerbate \n",
            "conflicts. \n",
            "Flooding \n",
            "Heavy rainfall events are becoming more common, leading to increased flooding. Urban \n",
            "areas with poor drainage and infrastructure are particularly at risk. Flood management \n",
            "strategies include improved drainage systems, green infrastructure, and floodplain restoration. \n",
            "Ocean Acidification \n",
            "Increased CO2 levels in the atmosphere lead to higher concentrations of CO2 in the oceans. \n",
            "This causes the water to become more acidic, which can harm marine life, particularly \n",
            "organisms with calcium carbonate shells or skeletons, such as corals and some shellfish. \n",
            "Coral Reefs\n",
            "\n",
            "\n",
            "Context 3:\n",
            "Vision for a Sustainable Future \n",
            "Holistic Approach \n",
            "Addressing climate change requires a holistic approach that integrates environmental, social, \n",
            "and economic dimensions. Sustainable development, circular economy, and ecological justice \n",
            "are key principles guiding this approach. Collaboration across sectors and scales is essential \n",
            "for achieving a sustainable future. \n",
            "Innovation and Creativity \n",
            "Innovation and creativity are vital for developing new solutions to climate challenges. This \n",
            "includes technological advancements, policy innovations, and creative approaches to \n",
            "education and communication. Fostering a culture of innovation supports continuous \n",
            "improvement and adaptation. \n",
            "Global Solidarity \n",
            "Global solidarity and cooperation are fundamental for addressing the global challenge of \n",
            "climate change. This includes supporting vulnerable countries and communities, sharing \n",
            "resources and technologies, and promoting equitable solutions. Solidarity strengthens global\n",
            "\n",
            "\n",
            "Context 4:\n",
            "Legacy for Future Generations \n",
            "Our actions today shape the world for future generations. Ensuring a sustainable and resilient \n",
            "planet is our responsibility to future generations. By working together, we can create a legacy \n",
            "of environmental stewardship, social equity, and global solidarity. \n",
            "Chapter 19: Climate Change and Policy \n",
            "Policy Development and Implementation \n",
            "National Climate Policies \n",
            "Countries around the world are developing and implementing national climate policies to \n",
            "address climate change. These policies set emission reduction targets, promote renewable \n",
            "energy, and support adaptation measures. Effective policy implementation requires\n",
            "\n",
            "\n",
            "Context 5:\n",
            "This vision includes a healthy planet, thriving ecosystems, and equitable societies. Working \n",
            "together towards this vision creates a sense of purpose and motivation. \n",
            "By embracing these principles and taking concerted action, we can address the urgent \n",
            "challenge of climate change and build a sustainable, resilient, and equitable world for all. The \n",
            "path forward requires courage, commitment, and collaboration, but the rewards are \n",
            "immense—a thriving planet and a prosperous future for generations to come. \n",
            "Chapter 13: Climate Change and Social Justice \n",
            "Climate Justice \n",
            "Understanding Climate Justice \n",
            "Climate justice emphasizes the ethical dimensions of climate change, recognizing that its \n",
            "impacts are not evenly distributed. Vulnerable populations, including low-income \n",
            "communities, indigenous peoples, and marginalized groups, often face the greatest risks \n",
            "while contributing the least to greenhouse gas emissions. Climate justice advocates for\n",
            "\n",
            "\n"
          ]
        }
      ],
      "source": [
        "# Query\n",
        "query = \"What are the impacts of climate change on the environment?\"\n",
        "\n",
        "# Perform fusion retrieval\n",
        "top_docs = fusion_retrieval(vectorstore, bm25, query, k=5, alpha=0.5)\n",
        "docs_content = [doc.page_content for doc in top_docs]\n",
        "show_context(docs_content)"
      ]
    },
    {
      "cell_type": "markdown",
      "metadata": {},
      "source": [
        "![](https://europe-west1-rag-techniques-views-tracker.cloudfunctions.net/rag-techniques-tracker?notebook=all-rag-techniques--fusion-retrieval)"
      ]
    }
  ],
  "metadata": {
    "colab": {
      "name": "",
      "provenance": [],
      "toc_visible": true
    },
    "kernelspec": {
      "display_name": ".venv",
      "language": "python",
      "name": "python3"
    },
    "language_info": {
      "codemirror_mode": {
        "name": "ipython",
        "version": 3
      },
      "file_extension": ".py",
      "mimetype": "text/x-python",
      "name": "python",
      "nbconvert_exporter": "python",
      "pygments_lexer": "ipython3",
      "version": "3.13.2"
    }
  },
  "nbformat": 4,
  "nbformat_minor": 2
}
